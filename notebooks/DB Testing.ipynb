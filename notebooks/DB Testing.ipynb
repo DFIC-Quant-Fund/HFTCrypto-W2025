{
 "cells": [
  {
   "cell_type": "code",
   "execution_count": 18,
   "metadata": {},
   "outputs": [],
   "source": [
    "import pandas as pd\n",
    "import numpy as np\n",
    "import matplotlib.pyplot as plt\n",
    "import seaborn as sns\n",
    "\n",
    "import sys\n",
    "import os\n",
    "\n",
    "# Append the parent directory to sys.path\n",
    "parent_dir = os.path.abspath('..')\n",
    "if parent_dir not in sys.path:\n",
    "    sys.path.append(parent_dir)"
   ]
  },
  {
   "cell_type": "code",
   "execution_count": 19,
   "metadata": {},
   "outputs": [],
   "source": [
    "# DB testing\n",
    "\n",
    "from dotenv import load_dotenv\n",
    "import mysql.connector\n",
    "import os\n",
    "\n",
    "from research.trades_db_utils import create_connection\n",
    "\n",
    "load_dotenv()\n",
    "DB_HOSTNAME = os.getenv('DB_HOSTNAME')\n",
    "DB_USER = os.getenv('DB_USER')\n",
    "DB_PASSWORD = os.getenv('DB_PASSWORD')\n",
    "DB_PORT = os.getenv('DB_PORT')\n",
    "\n",
    "conn = create_connection(DB_HOSTNAME, 'CoinTrades', DB_USER, DB_PASSWORD)"
   ]
  },
  {
   "cell_type": "code",
   "execution_count": 20,
   "metadata": {},
   "outputs": [],
   "source": [
    "# from research.trades_db_utils import create_tables\n",
    "\n",
    "# create_tables(conn)"
   ]
  },
  {
   "cell_type": "code",
   "execution_count": 21,
   "metadata": {},
   "outputs": [
    {
     "name": "stdout",
     "output_type": "stream",
     "text": [
      "(1, 'test', 'test')\n",
      "(2, 'test2', 'test2')\n"
     ]
    }
   ],
   "source": [
    "cursor = conn.cursor()\n",
    "\n",
    "select_query = \"SELECT * FROM coins\"\n",
    "cursor.execute(select_query)\n",
    "\n",
    "row = cursor.fetchall()\n",
    "\n",
    "cursor.close()\n",
    "conn.close()\n",
    "\n",
    "for x in row:\n",
    "    if x:\n",
    "        print(x)\n",
    "    else:\n",
    "        jsonify({\"message\": \"coin not found\"}), 404"
   ]
  }
 ],
 "metadata": {
  "kernelspec": {
   "display_name": ".venv",
   "language": "python",
   "name": "python3"
  },
  "language_info": {
   "codemirror_mode": {
    "name": "ipython",
    "version": 3
   },
   "file_extension": ".py",
   "mimetype": "text/x-python",
   "name": "python",
   "nbconvert_exporter": "python",
   "pygments_lexer": "ipython3",
   "version": "3.10.11"
  }
 },
 "nbformat": 4,
 "nbformat_minor": 2
}
