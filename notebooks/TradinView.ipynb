{
 "cells": [
  {
   "cell_type": "code",
   "execution_count": 6,
   "metadata": {},
   "outputs": [],
   "source": [
    "import pandas as pd\n",
    "import numpy as np\n",
    "import plotly.graph_objects as go\n",
    "import plotly.io as pio\n",
    "import sys\n",
    "pio.renderers.default = 'browser'"
   ]
  },
  {
   "cell_type": "code",
   "execution_count": 2,
   "metadata": {},
   "outputs": [],
   "source": [
    "#from sqlalchemy import create_engine\n",
    "import mysql.connector"
   ]
  },
  {
   "cell_type": "code",
   "execution_count": 7,
   "metadata": {},
   "outputs": [],
   "source": [
    "# Append the parent directory to sys.path\n",
    "parent_dir = os.path.abspath('..')\n",
    "if parent_dir not in sys.path:\n",
    "    sys.path.append(parent_dir)"
   ]
  },
  {
   "cell_type": "code",
   "execution_count": 10,
   "metadata": {},
   "outputs": [
    {
     "name": "stdout",
     "output_type": "stream",
     "text": [
      "Error while connecting to MySQL 2003: Can't connect to MySQL server on 'crypto.clugm0820uni.us-east-1.rds.amazonaws.com:3306' (Errno 8: nodename nor servname provided, or not known)\n"
     ]
    },
    {
     "ename": "AttributeError",
     "evalue": "'NoneType' object has no attribute 'cursor'",
     "output_type": "error",
     "traceback": [
      "\u001b[0;31m---------------------------------------------------------------------------\u001b[0m",
      "\u001b[0;31mAttributeError\u001b[0m                            Traceback (most recent call last)",
      "Cell \u001b[0;32mIn[10], line 29\u001b[0m\n\u001b[1;32m     22\u001b[0m conn \u001b[38;5;241m=\u001b[39m create_connection(DB_HOSTNAME, \u001b[38;5;124m'\u001b[39m\u001b[38;5;124mCoinTrades\u001b[39m\u001b[38;5;124m'\u001b[39m, DB_USER, DB_PASSWORD)\n\u001b[1;32m     24\u001b[0m query \u001b[38;5;241m=\u001b[39m \u001b[38;5;124m\"\"\"\u001b[39m\n\u001b[1;32m     25\u001b[0m \u001b[38;5;124mSELECT datetime, open, high, low, close, volume, signal\u001b[39m\n\u001b[1;32m     26\u001b[0m \u001b[38;5;124mFROM crypto_data\u001b[39m\n\u001b[1;32m     27\u001b[0m \u001b[38;5;124mORDER BY datetime\u001b[39m\n\u001b[1;32m     28\u001b[0m \u001b[38;5;124m\"\"\"\u001b[39m\n\u001b[0;32m---> 29\u001b[0m cursor \u001b[38;5;241m=\u001b[39m \u001b[43mconn\u001b[49m\u001b[38;5;241;43m.\u001b[39;49m\u001b[43mcursor\u001b[49m()\n\u001b[1;32m     31\u001b[0m \u001b[38;5;66;03m# Load data\u001b[39;00m\n\u001b[1;32m     32\u001b[0m df \u001b[38;5;241m=\u001b[39m pd\u001b[38;5;241m.\u001b[39mread_sql(query, con\u001b[38;5;241m=\u001b[39mconn)\n",
      "\u001b[0;31mAttributeError\u001b[0m: 'NoneType' object has no attribute 'cursor'"
     ]
    }
   ],
   "source": [
    "# Step 1: Connect to MySQL database and fetch data (NEW)\n",
    "'''load_dotenv()\n",
    "connection = mysql.connector.connect(\n",
    "    host= os.getenv('DB_HOSTNAME'),       # e.g. 'localhost' or AWS endpoint\n",
    "    user= os.getenv('DB_USER'),\n",
    "    password= os.getenv('DB_PASSWORD'),\n",
    "    database= 'CoinTrades'\n",
    ")'''\n",
    "\n",
    "from dotenv import load_dotenv\n",
    "import mysql.connector\n",
    "import os\n",
    "\n",
    "from research.trades_db_utils import create_connection\n",
    "\n",
    "load_dotenv()\n",
    "DB_HOSTNAME = os.getenv('DB_HOSTNAME')\n",
    "DB_USER = os.getenv('DB_USER')\n",
    "DB_PASSWORD = os.getenv('DB_PASSWORD')\n",
    "DB_PORT = os.getenv('DB_PORT')\n",
    "\n",
    "conn = create_connection(DB_HOSTNAME, 'CoinTrades', DB_USER, DB_PASSWORD)\n",
    "\n",
    "query = \"\"\"\n",
    "SELECT datetime, open, high, low, close, volume, signal\n",
    "FROM crypto_data\n",
    "ORDER BY datetime\n",
    "\"\"\"\n",
    "cursor = conn.cursor()\n",
    "\n",
    "# Load data\n",
    "df = pd.read_sql(query, con=conn)\n",
    "df['datetime'] = pd.to_datetime(df['datetime'])\n",
    "\n",
    "conn.close()\n",
    "\n",
    "# Step 2: Clean and sort data\n",
    "df = df.sort_values('datetime').reset_index(drop=True)\n",
    "df = df.dropna(subset=['datetime', 'open', 'high', 'low', 'close'])\n",
    "\n",
    "# Step 2: Create dummy buy/sell signals\n",
    "if 'signal' not in df.columns or df['signal'].isnull().all():\n",
    "    df['signal'] = None\n",
    "    buy_indices = np.random.choice(df.index[10:-10], 5, replace=False)\n",
    "    sell_indices = np.random.choice(df.index[10:-10], 5, replace=False)\n",
    "    df.loc[buy_indices, 'signal'] = 'buy'\n",
    "    df.loc[sell_indices, 'signal'] = 'sell'"
   ]
  },
  {
   "cell_type": "code",
   "execution_count": null,
   "metadata": {},
   "outputs": [],
   "source": [
    "# Step 3: Plot TradingView-style chart with Plotly\n",
    "fig = go.Figure()\n",
    "\n",
    "# Candlestick\n",
    "fig.add_trace(go.Candlestick(\n",
    "    x=df['datetime'],\n",
    "    open=df['open'],\n",
    "    high=df['high'],\n",
    "    low=df['low'],\n",
    "    close=df['close'],\n",
    "    name='Price'\n",
    "))\n",
    "\n",
    "# Buy signals\n",
    "buy_df = df[df['signal'] == 'buy']\n",
    "fig.add_trace(go.Scatter(\n",
    "    x=buy_df['datetime'],\n",
    "    y=buy_df['low'] - 50,\n",
    "    mode='markers',\n",
    "    marker=dict(symbol='triangle-up', size=12, color='green'),\n",
    "    name='Buy Signal'\n",
    "))\n",
    "\n",
    "# Sell signals\n",
    "sell_df = df[df['signal'] == 'sell']\n",
    "fig.add_trace(go.Scatter(\n",
    "    x=sell_df['datetime'],\n",
    "    y=sell_df['high'] + 50,\n",
    "    mode='markers',\n",
    "    marker=dict(symbol='triangle-down', size=12, color='red'),\n",
    "    name='Sell Signal'\n",
    "))\n",
    "\n",
    "# Layout settings\n",
    "fig.update_layout(\n",
    "    title='Crypto Candlestick Chart with Buy/Sell Signals',\n",
    "    xaxis_title='Time',\n",
    "    yaxis_title='Price',\n",
    "    xaxis_rangeslider_visible=False,\n",
    "    template='plotly_dark',\n",
    "    height=700\n",
    ")\n",
    "\n",
    "fig.show()"
   ]
  }
 ],
 "metadata": {
  "kernelspec": {
   "display_name": ".venv",
   "language": "python",
   "name": "python3"
  },
  "language_info": {
   "codemirror_mode": {
    "name": "ipython",
    "version": 3
   },
   "file_extension": ".py",
   "mimetype": "text/x-python",
   "name": "python",
   "nbconvert_exporter": "python",
   "pygments_lexer": "ipython3",
   "version": "3.11.5"
  }
 },
 "nbformat": 4,
 "nbformat_minor": 2
}
