{
 "cells": [
  {
   "cell_type": "code",
   "execution_count": 1,
   "metadata": {},
   "outputs": [],
   "source": [
    "import pandas as pd\n",
    "import numpy as np\n",
    "import matplotlib.pyplot as plt\n",
    "import seaborn as sns\n",
    "import mysql.connector\n",
    "\n",
    "import sys\n",
    "import os\n",
    "\n",
    "# Append the parent directory to sys.path\n",
    "parent_dir = os.path.abspath('..')\n",
    "if parent_dir not in sys.path:\n",
    "    sys.path.append(parent_dir)"
   ]
  },
  {
   "cell_type": "code",
   "execution_count": 2,
   "metadata": {},
   "outputs": [],
   "source": [
    "from dotenv import load_dotenv\n",
    "\n",
    "from research.trades_db_utils import create_connection\n",
    "\n",
    "load_dotenv()\n",
    "DB_HOSTNAME = os.getenv('DB_HOSTNAME')\n",
    "DB_USER = os.getenv('DB_USER')\n",
    "DB_PASSWORD = os.getenv('DB_PASSWORD')\n",
    "DB_PORT = os.getenv('DB_PORT')"
   ]
  },
  {
   "cell_type": "code",
   "execution_count": 3,
   "metadata": {},
   "outputs": [],
   "source": [
    "# Config\n",
    "\n",
    "coin_name = 'BTC'\n",
    "ticker = 'BTCUSDT'\n"
   ]
  },
  {
   "cell_type": "markdown",
   "metadata": {},
   "source": [
    "# Coin frequency by name\n",
    "Could help us to filter spam coins"
   ]
  },
  {
   "cell_type": "code",
   "execution_count": 4,
   "metadata": {},
   "outputs": [
    {
     "name": "stdout",
     "output_type": "stream",
     "text": [
      "('Satoshi Nazimoto', 14)\n",
      "('YZYCHAIN', 8)\n",
      "('Satoshi ', 6)\n",
      "('Stewart', 4)\n",
      "('109 Stratford Reserve Place ', 3)\n",
      "('OFFICIAL TRUMP', 3)\n",
      "('20k=shave my head (LIVE)', 3)\n",
      "('test', 2)\n",
      "('ELONS KIDS NAME', 2)\n",
      "(\"ELON MUSK'S PHONE NUMBER\", 2)\n",
      "('LAZARUS GROUP', 2)\n",
      "('ELON NEW TOKEN LEAKED', 2)\n",
      "('YZY DAO', 2)\n",
      "('ELONS LAWYER', 2)\n",
      "('Pongting', 2)\n",
      "('ELONS NEWBORN SON NAME', 2)\n"
     ]
    }
   ],
   "source": [
    "conn = create_connection(DB_HOSTNAME, 'CoinTrades', DB_USER, DB_PASSWORD)\n",
    "cursor = conn.cursor()\n",
    "\n",
    "select_query = \"\"\"\n",
    "    select * from (\n",
    "        SELECT coin_name, count(*) as coin_freq\n",
    "        FROM CoinTrades.coins  \n",
    "        group by coin_name\n",
    "        order by count(*) desc\n",
    "    ) freq\n",
    "    where coin_freq > 1\n",
    "\"\"\"\n",
    "\n",
    "cursor.execute(select_query)\n",
    "\n",
    "row = cursor.fetchall()\n",
    "conn.close()\n",
    "\n",
    "for x in row:\n",
    "    if x:\n",
    "        print(x)\n",
    "    else:\n",
    "        jsonify({\"message\": \"coin not found\"}), 404"
   ]
  },
  {
   "cell_type": "markdown",
   "metadata": {},
   "source": [
    "# Trades per coin \n",
    "might want to make a classifier to somehow predict whether a coin will have a certain amount of trades"
   ]
  },
  {
   "cell_type": "code",
   "execution_count": 15,
   "metadata": {},
   "outputs": [
    {
     "data": {
      "text/html": [
       "<div>\n",
       "<style scoped>\n",
       "    .dataframe tbody tr th:only-of-type {\n",
       "        vertical-align: middle;\n",
       "    }\n",
       "\n",
       "    .dataframe tbody tr th {\n",
       "        vertical-align: top;\n",
       "    }\n",
       "\n",
       "    .dataframe thead th {\n",
       "        text-align: right;\n",
       "    }\n",
       "</style>\n",
       "<table border=\"1\" class=\"dataframe\">\n",
       "  <thead>\n",
       "    <tr style=\"text-align: right;\">\n",
       "      <th></th>\n",
       "      <th>coin_name</th>\n",
       "      <th>coin_freq</th>\n",
       "    </tr>\n",
       "  </thead>\n",
       "  <tbody>\n",
       "    <tr>\n",
       "      <th>37</th>\n",
       "      <td>109 Stratford Reserve Place</td>\n",
       "      <td>1309</td>\n",
       "    </tr>\n",
       "    <tr>\n",
       "      <th>93</th>\n",
       "      <td>MAGA PNUT - CTO</td>\n",
       "      <td>1135</td>\n",
       "    </tr>\n",
       "    <tr>\n",
       "      <th>149</th>\n",
       "      <td>DITCHY DAT DUDE</td>\n",
       "      <td>801</td>\n",
       "    </tr>\n",
       "    <tr>\n",
       "      <th>190</th>\n",
       "      <td>yezus</td>\n",
       "      <td>768</td>\n",
       "    </tr>\n",
       "    <tr>\n",
       "      <th>91</th>\n",
       "      <td>smol pope</td>\n",
       "      <td>736</td>\n",
       "    </tr>\n",
       "    <tr>\n",
       "      <th>202</th>\n",
       "      <td>fon</td>\n",
       "      <td>681</td>\n",
       "    </tr>\n",
       "    <tr>\n",
       "      <th>187</th>\n",
       "      <td>Satoshi</td>\n",
       "      <td>477</td>\n",
       "    </tr>\n",
       "    <tr>\n",
       "      <th>199</th>\n",
       "      <td>ELONS NEWBORN SON NAME</td>\n",
       "      <td>396</td>\n",
       "    </tr>\n",
       "    <tr>\n",
       "      <th>143</th>\n",
       "      <td>Stewart</td>\n",
       "      <td>318</td>\n",
       "    </tr>\n",
       "    <tr>\n",
       "      <th>185</th>\n",
       "      <td>Every Guy</td>\n",
       "      <td>305</td>\n",
       "    </tr>\n",
       "  </tbody>\n",
       "</table>\n",
       "</div>"
      ],
      "text/plain": [
       "                        coin_name  coin_freq\n",
       "37   109 Stratford Reserve Place        1309\n",
       "93                MAGA PNUT - CTO       1135\n",
       "149               DITCHY DAT DUDE        801\n",
       "190                         yezus        768\n",
       "91                      smol pope        736\n",
       "202                           fon        681\n",
       "187                      Satoshi         477\n",
       "199        ELONS NEWBORN SON NAME        396\n",
       "143                       Stewart        318\n",
       "185                     Every Guy        305"
      ]
     },
     "execution_count": 15,
     "metadata": {},
     "output_type": "execute_result"
    }
   ],
   "source": [
    "conn = create_connection(DB_HOSTNAME, 'CoinTrades', DB_USER, DB_PASSWORD)\n",
    "cursor = conn.cursor()\n",
    "\n",
    "select_query = \"\"\"\n",
    "    select coin_name, coin_freq\n",
    "    from (\n",
    "        select coin_id, count(*) as coin_freq \n",
    "        from CoinTrades.trades\n",
    "        group by coin_id\n",
    "    ) t\n",
    "    join CoinTrades.coins c on c.id = t.coin_id\n",
    "\"\"\"\n",
    "\n",
    "cursor.execute(select_query)\n",
    "\n",
    "row = cursor.fetchall()\n",
    "conn.close()\n",
    "\n",
    "df = pd.DataFrame(row, columns=['coin_name', 'coin_freq'])\n",
    "df.sort_values(by='coin_freq', ascending=False, inplace=True)\n",
    "df.head(10)\n",
    "\n"
   ]
  },
  {
   "cell_type": "code",
   "execution_count": 19,
   "metadata": {},
   "outputs": [
    {
     "data": {
      "image/png": "[encoded data removed]",
      "text/plain": [
       "<Figure size 1000x600 with 1 Axes>"
      ]
     },
     "metadata": {},
     "output_type": "display_data"
    }
   ],
   "source": [
    "plt.figure(figsize=(10, 6))\n",
    "sns.barplot(y='coin_freq', x=range(len(df)), data=df)\n",
    "plt.title('Frequency of Coins')\n",
    "plt.xlabel('Coin Index')\n",
    "plt.ylabel('Trades')\n",
    "plt.show()"
   ]
  }
 ],
 "metadata": {
  "kernelspec": {
   "display_name": ".venv",
   "language": "python",
   "name": "python3"
  },
  "language_info": {
   "codemirror_mode": {
    "name": "ipython",
    "version": 3
   },
   "file_extension": ".py",
   "mimetype": "text/x-python",
   "name": "python",
   "nbconvert_exporter": "python",
   "pygments_lexer": "ipython3",
   "version": "3.10.11"
  }
 },
 "nbformat": 4,
 "nbformat_minor": 2
}
